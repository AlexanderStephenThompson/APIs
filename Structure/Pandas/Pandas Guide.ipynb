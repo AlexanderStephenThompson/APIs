{
 "cells": [
  {
   "cell_type": "markdown",
   "metadata": {},
   "source": [
    "# Pandas\n",
    "\n",
    "A dataframe is just pandas' version of a table. Tables have columns, which are reffered to as series. And multiple series make up a table. All stuff we know about data tables, just knowing specific termology."
   ]
  },
  {
   "cell_type": "code",
   "execution_count": 1,
   "metadata": {},
   "outputs": [],
   "source": [
    "import numpy as np\n",
    "import pandas as pd"
   ]
  },
  {
   "cell_type": "markdown",
   "metadata": {},
   "source": [
    "# Getting Data"
   ]
  },
  {
   "cell_type": "code",
   "execution_count": null,
   "metadata": {},
   "outputs": [],
   "source": [
    "# Excel & CSV\n",
    "\n",
    "data_file = 'your_file.csv'  # Can either be.xlsx or.csv\n",
    "df = pd.read_csv(data_file)"
   ]
  },
  {
   "cell_type": "code",
   "execution_count": null,
   "metadata": {},
   "outputs": [],
   "source": [
    "# Database\n",
    "import pymysql\n",
    "\n",
    "# Connect to the MySQL database\n",
    "connection = pymysql.connect(\n",
    "    host='your_host',\n",
    "    user='your_user',\n",
    "    password='your_password',\n",
    "    database='your_database'\n",
    ")\n",
    "\n",
    "# Define your SQL query\n",
    "sql_query = \"SELECT * FROM your_table\"\n",
    "\n",
    "# Load data from MySQL into a DataFrame\n",
    "df_mysql = pd.read_sql(sql_query, connection)\n",
    "\n",
    "# Close the database connection when done\n",
    "connection.close()"
   ]
  },
  {
   "cell_type": "code",
   "execution_count": 15,
   "metadata": {},
   "outputs": [
    {
     "data": {
      "text/html": [
       "<div>\n",
       "<style scoped>\n",
       "    .dataframe tbody tr th:only-of-type {\n",
       "        vertical-align: middle;\n",
       "    }\n",
       "\n",
       "    .dataframe tbody tr th {\n",
       "        vertical-align: top;\n",
       "    }\n",
       "\n",
       "    .dataframe thead th {\n",
       "        text-align: right;\n",
       "    }\n",
       "</style>\n",
       "<table border=\"1\" class=\"dataframe\">\n",
       "  <thead>\n",
       "    <tr style=\"text-align: right;\">\n",
       "      <th></th>\n",
       "      <th>Name</th>\n",
       "      <th>Age</th>\n",
       "      <th>City</th>\n",
       "    </tr>\n",
       "  </thead>\n",
       "  <tbody>\n",
       "    <tr>\n",
       "      <th>0</th>\n",
       "      <td>Alice</td>\n",
       "      <td>25</td>\n",
       "      <td>New York</td>\n",
       "    </tr>\n",
       "    <tr>\n",
       "      <th>1</th>\n",
       "      <td>Bob</td>\n",
       "      <td>30</td>\n",
       "      <td>San Francisco</td>\n",
       "    </tr>\n",
       "    <tr>\n",
       "      <th>2</th>\n",
       "      <td>Charlie</td>\n",
       "      <td>35</td>\n",
       "      <td>Los Angeles</td>\n",
       "    </tr>\n",
       "  </tbody>\n",
       "</table>\n",
       "</div>"
      ],
      "text/plain": [
       "      Name  Age           City\n",
       "0    Alice   25       New York\n",
       "1      Bob   30  San Francisco\n",
       "2  Charlie   35    Los Angeles"
      ]
     },
     "execution_count": 15,
     "metadata": {},
     "output_type": "execute_result"
    }
   ],
   "source": [
    "# Create a dictionary\n",
    "data = {\n",
    "    'Name': ['Alice', 'Bob', 'Charlie'],\n",
    "    'Age': [25, 30, 35],\n",
    "    'City': ['New York', 'San Francisco', 'Los Angeles']\n",
    "}\n",
    "\n",
    "# Convert the dictionary to a DataFrame\n",
    "df = pd.DataFrame(data)\n",
    "\n",
    "# Print the DataFrame\n",
    "df"
   ]
  },
  {
   "cell_type": "code",
   "execution_count": 11,
   "metadata": {},
   "outputs": [
    {
     "data": {
      "text/html": [
       "<div>\n",
       "<style scoped>\n",
       "    .dataframe tbody tr th:only-of-type {\n",
       "        vertical-align: middle;\n",
       "    }\n",
       "\n",
       "    .dataframe tbody tr th {\n",
       "        vertical-align: top;\n",
       "    }\n",
       "\n",
       "    .dataframe thead th {\n",
       "        text-align: right;\n",
       "    }\n",
       "</style>\n",
       "<table border=\"1\" class=\"dataframe\">\n",
       "  <thead>\n",
       "    <tr style=\"text-align: right;\">\n",
       "      <th></th>\n",
       "      <th>Name</th>\n",
       "      <th>Species</th>\n",
       "      <th>Level</th>\n",
       "      <th>HP</th>\n",
       "      <th>Attack</th>\n",
       "      <th>Defense</th>\n",
       "      <th>Speed</th>\n",
       "      <th>Vitality</th>\n",
       "      <th>Luck</th>\n",
       "      <th>Spirit</th>\n",
       "    </tr>\n",
       "  </thead>\n",
       "  <tbody>\n",
       "    <tr>\n",
       "      <th>0</th>\n",
       "      <td>Stripe</td>\n",
       "      <td>Lion</td>\n",
       "      <td>1</td>\n",
       "      <td>74</td>\n",
       "      <td>13</td>\n",
       "      <td>7</td>\n",
       "      <td>82</td>\n",
       "      <td>83</td>\n",
       "      <td>49</td>\n",
       "      <td>8</td>\n",
       "    </tr>\n",
       "    <tr>\n",
       "      <th>1</th>\n",
       "      <td>Leo</td>\n",
       "      <td>Lion</td>\n",
       "      <td>3</td>\n",
       "      <td>56</td>\n",
       "      <td>22</td>\n",
       "      <td>6</td>\n",
       "      <td>47</td>\n",
       "      <td>10</td>\n",
       "      <td>35</td>\n",
       "      <td>30</td>\n",
       "    </tr>\n",
       "    <tr>\n",
       "      <th>2</th>\n",
       "      <td>Aquila</td>\n",
       "      <td>Bear</td>\n",
       "      <td>7</td>\n",
       "      <td>72</td>\n",
       "      <td>12</td>\n",
       "      <td>12</td>\n",
       "      <td>21</td>\n",
       "      <td>78</td>\n",
       "      <td>82</td>\n",
       "      <td>5</td>\n",
       "    </tr>\n",
       "    <tr>\n",
       "      <th>3</th>\n",
       "      <td>Bamboo</td>\n",
       "      <td>Snake</td>\n",
       "      <td>6</td>\n",
       "      <td>72</td>\n",
       "      <td>27</td>\n",
       "      <td>14</td>\n",
       "      <td>48</td>\n",
       "      <td>82</td>\n",
       "      <td>89</td>\n",
       "      <td>41</td>\n",
       "    </tr>\n",
       "    <tr>\n",
       "      <th>4</th>\n",
       "      <td>Serpent</td>\n",
       "      <td>Fox</td>\n",
       "      <td>5</td>\n",
       "      <td>88</td>\n",
       "      <td>19</td>\n",
       "      <td>7</td>\n",
       "      <td>46</td>\n",
       "      <td>22</td>\n",
       "      <td>72</td>\n",
       "      <td>52</td>\n",
       "    </tr>\n",
       "    <tr>\n",
       "      <th>5</th>\n",
       "      <td>Red</td>\n",
       "      <td>Gorilla</td>\n",
       "      <td>3</td>\n",
       "      <td>66</td>\n",
       "      <td>30</td>\n",
       "      <td>12</td>\n",
       "      <td>27</td>\n",
       "      <td>69</td>\n",
       "      <td>29</td>\n",
       "      <td>35</td>\n",
       "    </tr>\n",
       "    <tr>\n",
       "      <th>6</th>\n",
       "      <td>Sprint</td>\n",
       "      <td>Gorilla</td>\n",
       "      <td>4</td>\n",
       "      <td>52</td>\n",
       "      <td>29</td>\n",
       "      <td>8</td>\n",
       "      <td>86</td>\n",
       "      <td>94</td>\n",
       "      <td>88</td>\n",
       "      <td>9</td>\n",
       "    </tr>\n",
       "    <tr>\n",
       "      <th>7</th>\n",
       "      <td>Grizzly</td>\n",
       "      <td>Eagle</td>\n",
       "      <td>6</td>\n",
       "      <td>96</td>\n",
       "      <td>21</td>\n",
       "      <td>17</td>\n",
       "      <td>35</td>\n",
       "      <td>32</td>\n",
       "      <td>42</td>\n",
       "      <td>28</td>\n",
       "    </tr>\n",
       "    <tr>\n",
       "      <th>8</th>\n",
       "      <td>Wiley</td>\n",
       "      <td>Eagle</td>\n",
       "      <td>2</td>\n",
       "      <td>79</td>\n",
       "      <td>28</td>\n",
       "      <td>13</td>\n",
       "      <td>90</td>\n",
       "      <td>21</td>\n",
       "      <td>99</td>\n",
       "      <td>73</td>\n",
       "    </tr>\n",
       "    <tr>\n",
       "      <th>9</th>\n",
       "      <td>Kong</td>\n",
       "      <td>Bear</td>\n",
       "      <td>2</td>\n",
       "      <td>84</td>\n",
       "      <td>16</td>\n",
       "      <td>19</td>\n",
       "      <td>88</td>\n",
       "      <td>60</td>\n",
       "      <td>100</td>\n",
       "      <td>92</td>\n",
       "    </tr>\n",
       "  </tbody>\n",
       "</table>\n",
       "</div>"
      ],
      "text/plain": [
       "      Name  Species  Level  HP  Attack  Defense  Speed  Vitality  Luck  Spirit\n",
       "0   Stripe     Lion      1  74      13        7     82        83    49       8\n",
       "1      Leo     Lion      3  56      22        6     47        10    35      30\n",
       "2   Aquila     Bear      7  72      12       12     21        78    82       5\n",
       "3   Bamboo    Snake      6  72      27       14     48        82    89      41\n",
       "4  Serpent      Fox      5  88      19        7     46        22    72      52\n",
       "5      Red  Gorilla      3  66      30       12     27        69    29      35\n",
       "6   Sprint  Gorilla      4  52      29        8     86        94    88       9\n",
       "7  Grizzly    Eagle      6  96      21       17     35        32    42      28\n",
       "8    Wiley    Eagle      2  79      28       13     90        21    99      73\n",
       "9     Kong     Bear      2  84      16       19     88        60   100      92"
      ]
     },
     "execution_count": 11,
     "metadata": {},
     "output_type": "execute_result"
    }
   ],
   "source": [
    "# Manual\n",
    "import random\n",
    "random.seed(42)\n",
    "\n",
    "\n",
    "species = ['Lion', 'Tiger', 'Bear', 'Wolf', 'Eagle', 'Fox', 'Snake', 'Gorilla', 'Cheetah', 'Panda']\n",
    "names = ['Leo', 'Stripe', 'Grizzly', 'Wiley', 'Aquila', 'Red', 'Serpent', 'Kong', 'Sprint', 'Bamboo']\n",
    "\n",
    "# Generate random data for the DataFrame\n",
    "data = {\n",
    "    'Name':     random.sample(names, 10),                       # Randomly select 10 character names from the list\n",
    "    'Species':  random.choices(species, k=10),                  # Randomly select 10 animal species\n",
    "    'Level':    [random.randint(1, 10) for _ in range(10)],     # Random levels from 1 to 10\n",
    "    'HP':       [random.randint(50, 100) for _ in range(10)],   # Random HP values\n",
    "    'Attack':   [random.randint(10, 30) for _ in range(10)],    # Random attack values\n",
    "    'Defense':  [random.randint(5, 20) for _ in range(10)],     # Random defense values\n",
    "    'Speed':    [random.randint(1, 100) for _ in range(10)],    # Random Speed values (scaled to 1-100)\n",
    "    'Vitality': [random.randint(1, 100) for _ in range(10)],    # Random Vitality values (scaled to 1-100)\n",
    "    'Luck':     [random.randint(1, 100) for _ in range(10)],    # Random Luck values (scaled to 1-100)\n",
    "    'Spirit':   [random.randint(1, 100) for _ in range(10)]     # Random Spirit values (scaled to 1-100)\n",
    "}\n",
    "\n",
    "# Create the DataFrame for animal characters\n",
    "df_animals = pd.DataFrame(data)\n",
    "\n",
    "# Displaying the DataFrame\n",
    "df_animals\n"
   ]
  },
  {
   "cell_type": "code",
   "execution_count": 4,
   "metadata": {},
   "outputs": [
    {
     "data": {
      "text/html": [
       "<div>\n",
       "<style scoped>\n",
       "    .dataframe tbody tr th:only-of-type {\n",
       "        vertical-align: middle;\n",
       "    }\n",
       "\n",
       "    .dataframe tbody tr th {\n",
       "        vertical-align: top;\n",
       "    }\n",
       "\n",
       "    .dataframe thead th {\n",
       "        text-align: right;\n",
       "    }\n",
       "</style>\n",
       "<table border=\"1\" class=\"dataframe\">\n",
       "  <thead>\n",
       "    <tr style=\"text-align: right;\">\n",
       "      <th></th>\n",
       "      <th></th>\n",
       "      <th>A</th>\n",
       "      <th>B</th>\n",
       "    </tr>\n",
       "  </thead>\n",
       "  <tbody>\n",
       "    <tr>\n",
       "      <th rowspan=\"2\" valign=\"top\">Group1</th>\n",
       "      <th>A</th>\n",
       "      <td>1</td>\n",
       "      <td>5</td>\n",
       "    </tr>\n",
       "    <tr>\n",
       "      <th>B</th>\n",
       "      <td>2</td>\n",
       "      <td>6</td>\n",
       "    </tr>\n",
       "    <tr>\n",
       "      <th rowspan=\"2\" valign=\"top\">Group2</th>\n",
       "      <th>A</th>\n",
       "      <td>3</td>\n",
       "      <td>7</td>\n",
       "    </tr>\n",
       "    <tr>\n",
       "      <th>B</th>\n",
       "      <td>4</td>\n",
       "      <td>8</td>\n",
       "    </tr>\n",
       "  </tbody>\n",
       "</table>\n",
       "</div>"
      ],
      "text/plain": [
       "          A  B\n",
       "Group1 A  1  5\n",
       "       B  2  6\n",
       "Group2 A  3  7\n",
       "       B  4  8"
      ]
     },
     "execution_count": 4,
     "metadata": {},
     "output_type": "execute_result"
    }
   ],
   "source": [
    "# Creating a multi-index DataFrame\n",
    "data = {'A': [1, 2, 3, 4],\n",
    "        'B': [5, 6, 7, 8]}\n",
    "\n",
    "index = pd.MultiIndex.from_tuples([('Group1', 'A'), ('Group1', 'B'), ('Group2', 'A'), ('Group2', 'B')])\n",
    "df = pd.DataFrame(data, index=index)\n",
    "\n",
    "df"
   ]
  },
  {
   "cell_type": "markdown",
   "metadata": {},
   "source": [
    "# Inspection"
   ]
  },
  {
   "cell_type": "code",
   "execution_count": null,
   "metadata": {},
   "outputs": [],
   "source": [
    "# Show all columns\n",
    "df.columns"
   ]
  },
  {
   "cell_type": "code",
   "execution_count": null,
   "metadata": {},
   "outputs": [],
   "source": [
    "# Display first few rows\n",
    "df.head(10)\n",
    "\n",
    "# Summary statistics\n",
    "df.describe().transpose()\n",
    "\n",
    "# Checking for missing values\n",
    "df.isnull().sum()\n",
    "\n",
    "# Checking for duplicates\n",
    "df.duplicated().sum()"
   ]
  },
  {
   "cell_type": "markdown",
   "metadata": {},
   "source": [
    "# Selection"
   ]
  },
  {
   "cell_type": "code",
   "execution_count": null,
   "metadata": {},
   "outputs": [],
   "source": [
    "# Selecting rows by index\n",
    "row = df.loc[0]  # by label\n",
    "row = df.iloc[0]  # by integer position\n",
    "\n",
    "# Selecting multiple rows\n",
    "rows = df.loc[1:2]  # by label\n",
    "rows = df.iloc[1:3]  # by integer position"
   ]
  },
  {
   "cell_type": "code",
   "execution_count": null,
   "metadata": {},
   "outputs": [],
   "source": [
    "# Selecting a single column\n",
    "attribute = df['Name']\n",
    "\n",
    "# Selecting multiple columns\n",
    "attributes = df[['Name', 'Age']]"
   ]
  },
  {
   "cell_type": "code",
   "execution_count": null,
   "metadata": {},
   "outputs": [],
   "source": [
    "# Conditional selection (Filtering)\n",
    "young = df[df['Age'] < 30]"
   ]
  },
  {
   "cell_type": "markdown",
   "metadata": {},
   "source": [
    "# Operations"
   ]
  },
  {
   "cell_type": "markdown",
   "metadata": {},
   "source": [
    "## Cleaning & Processing"
   ]
  },
  {
   "cell_type": "code",
   "execution_count": null,
   "metadata": {},
   "outputs": [],
   "source": [
    "# Removing rows with missing values\n",
    "df_cleaned = df.dropna()\n",
    "\n",
    "# Removing entire columns\n",
    "df = df.drop('Column Name', axis=1)\n",
    "\n",
    "# Filling missing values\n",
    "df_filled = df.fillna(0)\n",
    "\n",
    "# Removing duplicates\n",
    "df_no_duplicates = df.drop_duplicates()"
   ]
  },
  {
   "cell_type": "code",
   "execution_count": null,
   "metadata": {},
   "outputs": [],
   "source": [
    "# Converting a column to a different data type\n",
    "df['Age'] = df['Age'].astype(float)\n",
    "\n",
    "# Creating a DateTime object\n",
    "date = pd.to_datetime('2023-09-14')"
   ]
  },
  {
   "cell_type": "code",
   "execution_count": 16,
   "metadata": {},
   "outputs": [
    {
     "data": {
      "text/plain": [
       "0     Boat\n",
       "1      Bus\n",
       "2      Car\n",
       "3    Train\n",
       "4     Bike\n",
       "dtype: object"
      ]
     },
     "execution_count": 16,
     "metadata": {},
     "output_type": "execute_result"
    }
   ],
   "source": [
    "transport_types = ['Boat', 'Bus', 'Car', 'Train', 'Bike']\n",
    "\n",
    "manualSeries = pd.Series(transport_types) # Python list to series.\n",
    "\n",
    "manualSeries"
   ]
  },
  {
   "cell_type": "code",
   "execution_count": null,
   "metadata": {},
   "outputs": [],
   "source": [
    "# Renaming columns\n",
    "df.rename(columns={'Name': 'Full_Name', 'Age': 'Years'}, inplace=True)"
   ]
  },
  {
   "cell_type": "code",
   "execution_count": null,
   "metadata": {},
   "outputs": [],
   "source": [
    "# Changing data types\n",
    "\n",
    "# Inspecting the data types of each attribute\n",
    "df.dtypes\n",
    "\n",
    "# Example 1: Convert a Column to Numeric\n",
    "data_numeric = {'Age': ['25', '30', '35', '40']}\n",
    "df_numeric = pd.DataFrame(data_numeric)\n",
    "df_numeric['Age'] = df_numeric['Age'].astype(int)\n",
    "\n",
    "# Example 2: Convert a Column to Datetime\n",
    "data_datetime = {'Date': ['2022-01-01', '2022-02-01', '2022-03-01']}\n",
    "df_datetime = pd.DataFrame(data_datetime)\n",
    "df_datetime['Date'] = pd.to_datetime(df_datetime['Date'])\n",
    "\n",
    "# Example 3: Convert a Column to String\n",
    "data_string = {'Number': [42, 3.14, 999]}\n",
    "df_string = pd.DataFrame(data_string)\n",
    "df_string['Number'] = df_string['Number'].astype(str)\n",
    "\n",
    "# Example 4: Convert a Column to Categorical\n",
    "data_categorical = {'Category': ['A', 'B', 'A', 'C', 'B']}\n",
    "df_categorical = pd.DataFrame(data_categorical)\n",
    "df_categorical['Category'] = df_categorical['Category'].astype('category')\n",
    "\n",
    "# Example 5: Convert a Column to Boolean\n",
    "data_boolean = {'Status': [True, False, True, False]}\n",
    "df_boolean = pd.DataFrame(data_boolean)\n",
    "df_boolean['Status'] = df_boolean['Status'].astype(bool)"
   ]
  },
  {
   "cell_type": "markdown",
   "metadata": {},
   "source": [
    "### Splitting"
   ]
  },
  {
   "cell_type": "code",
   "execution_count": 18,
   "metadata": {},
   "outputs": [
    {
     "name": "stdout",
     "output_type": "stream",
     "text": [
      "Instances with no missing data:\n"
     ]
    },
    {
     "data": {
      "text/html": [
       "<div>\n",
       "<style scoped>\n",
       "    .dataframe tbody tr th:only-of-type {\n",
       "        vertical-align: middle;\n",
       "    }\n",
       "\n",
       "    .dataframe tbody tr th {\n",
       "        vertical-align: top;\n",
       "    }\n",
       "\n",
       "    .dataframe thead th {\n",
       "        text-align: right;\n",
       "    }\n",
       "</style>\n",
       "<table border=\"1\" class=\"dataframe\">\n",
       "  <thead>\n",
       "    <tr style=\"text-align: right;\">\n",
       "      <th></th>\n",
       "      <th>Name</th>\n",
       "      <th>Age</th>\n",
       "      <th>City</th>\n",
       "    </tr>\n",
       "  </thead>\n",
       "  <tbody>\n",
       "    <tr>\n",
       "      <th>0</th>\n",
       "      <td>Alice</td>\n",
       "      <td>25.0</td>\n",
       "      <td>New York</td>\n",
       "    </tr>\n",
       "    <tr>\n",
       "      <th>2</th>\n",
       "      <td>Charlie</td>\n",
       "      <td>35.0</td>\n",
       "      <td>Los Angeles</td>\n",
       "    </tr>\n",
       "    <tr>\n",
       "      <th>3</th>\n",
       "      <td>David</td>\n",
       "      <td>28.0</td>\n",
       "      <td>Chicago</td>\n",
       "    </tr>\n",
       "    <tr>\n",
       "      <th>4</th>\n",
       "      <td>Eve</td>\n",
       "      <td>30.0</td>\n",
       "      <td>Miami</td>\n",
       "    </tr>\n",
       "  </tbody>\n",
       "</table>\n",
       "</div>"
      ],
      "text/plain": [
       "      Name   Age         City\n",
       "0    Alice  25.0     New York\n",
       "2  Charlie  35.0  Los Angeles\n",
       "3    David  28.0      Chicago\n",
       "4      Eve  30.0        Miami"
      ]
     },
     "execution_count": 18,
     "metadata": {},
     "output_type": "execute_result"
    }
   ],
   "source": [
    "# Splitting non missing and missing values\n",
    "\n",
    "# Create a sample DataFrame with missing data\n",
    "data = {\n",
    "    'Name': ['Alice', 'Bob', 'Charlie', 'David', 'Eve'],\n",
    "    'Age': [25, np.nan, 35, 28, 30],\n",
    "    'City': ['New York', 'San Francisco', 'Los Angeles', 'Chicago', 'Miami']\n",
    "}\n",
    "\n",
    "df = pd.DataFrame(data)\n",
    "\n",
    "# Create a boolean mask to identify rows with missing data in the 'Age' column\n",
    "missing_age_mask = df['Age'].isnull()\n",
    "\n",
    "# Create two DataFrames based on the boolean mask\n",
    "no_missing_data_df = df[~missing_age_mask]  # Instances with no missing data\n",
    "missing_data_df = df[missing_age_mask]      # Instances with missing data\n",
    "\n",
    "# Display the DataFrames\n",
    "print(\"Instances with no missing data:\")\n",
    "no_missing_data_df\n"
   ]
  },
  {
   "cell_type": "code",
   "execution_count": 19,
   "metadata": {},
   "outputs": [
    {
     "name": "stdout",
     "output_type": "stream",
     "text": [
      "\n",
      "Instances with missing data:\n"
     ]
    },
    {
     "data": {
      "text/html": [
       "<div>\n",
       "<style scoped>\n",
       "    .dataframe tbody tr th:only-of-type {\n",
       "        vertical-align: middle;\n",
       "    }\n",
       "\n",
       "    .dataframe tbody tr th {\n",
       "        vertical-align: top;\n",
       "    }\n",
       "\n",
       "    .dataframe thead th {\n",
       "        text-align: right;\n",
       "    }\n",
       "</style>\n",
       "<table border=\"1\" class=\"dataframe\">\n",
       "  <thead>\n",
       "    <tr style=\"text-align: right;\">\n",
       "      <th></th>\n",
       "      <th>Name</th>\n",
       "      <th>Age</th>\n",
       "      <th>City</th>\n",
       "    </tr>\n",
       "  </thead>\n",
       "  <tbody>\n",
       "    <tr>\n",
       "      <th>1</th>\n",
       "      <td>Bob</td>\n",
       "      <td>NaN</td>\n",
       "      <td>San Francisco</td>\n",
       "    </tr>\n",
       "  </tbody>\n",
       "</table>\n",
       "</div>"
      ],
      "text/plain": [
       "  Name  Age           City\n",
       "1  Bob  NaN  San Francisco"
      ]
     },
     "execution_count": 19,
     "metadata": {},
     "output_type": "execute_result"
    }
   ],
   "source": [
    "print(\"\\nInstances with missing data:\")\n",
    "missing_data_df"
   ]
  },
  {
   "cell_type": "markdown",
   "metadata": {},
   "source": [
    "## Manipulation"
   ]
  },
  {
   "cell_type": "code",
   "execution_count": null,
   "metadata": {},
   "outputs": [],
   "source": [
    "# Sorting by a column\n",
    "sorted_df = df.sort_values(by='Age', ascending=False)\n",
    "\n",
    "# Conditional selection (Filtering)\n",
    "young = df[df['Age'] < 30]\n",
    "df.query('Age < 30', inplace=True)\n",
    "\n",
    "# Grouping data by a column and calculating statistics\n",
    "grouped = df.groupby('Category')\n",
    "mean_values = grouped['Value'].mean()"
   ]
  },
  {
   "cell_type": "code",
   "execution_count": 14,
   "metadata": {},
   "outputs": [
    {
     "data": {
      "text/html": [
       "<div>\n",
       "<style scoped>\n",
       "    .dataframe tbody tr th:only-of-type {\n",
       "        vertical-align: middle;\n",
       "    }\n",
       "\n",
       "    .dataframe tbody tr th {\n",
       "        vertical-align: top;\n",
       "    }\n",
       "\n",
       "    .dataframe thead th {\n",
       "        text-align: right;\n",
       "    }\n",
       "</style>\n",
       "<table border=\"1\" class=\"dataframe\">\n",
       "  <thead>\n",
       "    <tr style=\"text-align: right;\">\n",
       "      <th></th>\n",
       "      <th>Character_Name</th>\n",
       "      <th>Character_Class</th>\n",
       "      <th>Class_Category</th>\n",
       "      <th>Character_Level</th>\n",
       "      <th>Level_Category</th>\n",
       "      <th>Character_HP</th>\n",
       "    </tr>\n",
       "  </thead>\n",
       "  <tbody>\n",
       "    <tr>\n",
       "      <th>0</th>\n",
       "      <td>Alice</td>\n",
       "      <td>Mage</td>\n",
       "      <td>Magic User</td>\n",
       "      <td>10</td>\n",
       "      <td>Medium</td>\n",
       "      <td>80</td>\n",
       "    </tr>\n",
       "    <tr>\n",
       "      <th>1</th>\n",
       "      <td>Bob</td>\n",
       "      <td>Warrior</td>\n",
       "      <td>Melee Fighter</td>\n",
       "      <td>15</td>\n",
       "      <td>High</td>\n",
       "      <td>150</td>\n",
       "    </tr>\n",
       "    <tr>\n",
       "      <th>2</th>\n",
       "      <td>Charlie</td>\n",
       "      <td>Thief</td>\n",
       "      <td>Melee Fighter</td>\n",
       "      <td>5</td>\n",
       "      <td>Medium</td>\n",
       "      <td>60</td>\n",
       "    </tr>\n",
       "    <tr>\n",
       "      <th>3</th>\n",
       "      <td>David</td>\n",
       "      <td>Mage</td>\n",
       "      <td>Magic User</td>\n",
       "      <td>12</td>\n",
       "      <td>High</td>\n",
       "      <td>100</td>\n",
       "    </tr>\n",
       "  </tbody>\n",
       "</table>\n",
       "</div>"
      ],
      "text/plain": [
       "  Character_Name Character_Class Class_Category  Character_Level  \\\n",
       "0          Alice            Mage     Magic User               10   \n",
       "1            Bob         Warrior  Melee Fighter               15   \n",
       "2        Charlie           Thief  Melee Fighter                5   \n",
       "3          David            Mage     Magic User               12   \n",
       "\n",
       "  Level_Category  Character_HP  \n",
       "0         Medium            80  \n",
       "1           High           150  \n",
       "2         Medium            60  \n",
       "3           High           100  "
      ]
     },
     "execution_count": 14,
     "metadata": {},
     "output_type": "execute_result"
    }
   ],
   "source": [
    "data = pd.DataFrame({\n",
    "    'Character_Name': ['Alice', 'Bob', 'Charlie', 'David'],\n",
    "    'Character_Class': ['Mage', 'Warrior', 'Thief', 'Mage'],\n",
    "    'Character_Level': [10, 15, 5, 12],\n",
    "    'Character_HP': [80, 150, 60, 100]\n",
    "})\n",
    "\n",
    "# Define a custom function to categorize levels\n",
    "def categorize_level(level):\n",
    "    if level < 5:\n",
    "        return 'Low'\n",
    "    elif level >= 5 and level <= 10:\n",
    "        return 'Medium'\n",
    "    else:\n",
    "        return 'High'\n",
    "\n",
    "# Apply the categorize_level function to create a new column\n",
    "data['Level_Category'] = data['Character_Level'].apply(categorize_level)\n",
    "\n",
    "\n",
    "def categorize_class(character_class):\n",
    "    if character_class in ['Mage', 'Wizard', 'Sorcerer']:\n",
    "        return 'Magic User'\n",
    "    else:\n",
    "        return 'Melee Fighter'\n",
    "\n",
    "data['Class_Category'] = data['Character_Class'].apply(categorize_class)\n",
    "\n",
    "# Reorder\n",
    "data = data[['Character_Name', 'Character_Class', 'Class_Category', 'Character_Level', 'Level_Category', 'Character_HP']]\n",
    "\n",
    "data"
   ]
  },
  {
   "cell_type": "markdown",
   "metadata": {},
   "source": [
    "## Joining"
   ]
  },
  {
   "cell_type": "code",
   "execution_count": null,
   "metadata": {},
   "outputs": [],
   "source": [
    "# Concatenating DataFrames vertically (Unioning)\n",
    "df_concat = pd.concat([df1, df2])\n",
    "\n",
    "# Merging DataFrames based on a common column (Joining)\n",
    "merged_df = pd.merge(left=df1, right=df2, on='Key_Column')"
   ]
  },
  {
   "cell_type": "code",
   "execution_count": 4,
   "metadata": {},
   "outputs": [
    {
     "data": {
      "text/html": [
       "<div>\n",
       "<style scoped>\n",
       "    .dataframe tbody tr th:only-of-type {\n",
       "        vertical-align: middle;\n",
       "    }\n",
       "\n",
       "    .dataframe tbody tr th {\n",
       "        vertical-align: top;\n",
       "    }\n",
       "\n",
       "    .dataframe thead th {\n",
       "        text-align: right;\n",
       "    }\n",
       "</style>\n",
       "<table border=\"1\" class=\"dataframe\">\n",
       "  <thead>\n",
       "    <tr style=\"text-align: right;\">\n",
       "      <th></th>\n",
       "      <th>key_column</th>\n",
       "      <th>value1</th>\n",
       "      <th>value2</th>\n",
       "    </tr>\n",
       "  </thead>\n",
       "  <tbody>\n",
       "    <tr>\n",
       "      <th>0</th>\n",
       "      <td>2</td>\n",
       "      <td>B</td>\n",
       "      <td>X</td>\n",
       "    </tr>\n",
       "    <tr>\n",
       "      <th>1</th>\n",
       "      <td>3</td>\n",
       "      <td>C</td>\n",
       "      <td>Y</td>\n",
       "    </tr>\n",
       "    <tr>\n",
       "      <th>2</th>\n",
       "      <td>4</td>\n",
       "      <td>D</td>\n",
       "      <td>W</td>\n",
       "    </tr>\n",
       "  </tbody>\n",
       "</table>\n",
       "</div>"
      ],
      "text/plain": [
       "   key_column value1 value2\n",
       "0           2      B      X\n",
       "1           3      C      Y\n",
       "2           4      D      W"
      ]
     },
     "execution_count": 4,
     "metadata": {},
     "output_type": "execute_result"
    }
   ],
   "source": [
    "# Sample DataFrames\n",
    "data1 = {'key_column': [1, 2, 3, 4],\n",
    "         'value1': ['A', 'B', 'C', 'D']}\n",
    "df1 = pd.DataFrame(data1)\n",
    "\n",
    "data2 = {'key_column': [2, 3, 5, 4],\n",
    "         'value2': ['X', 'Y', 'Z', 'W']}\n",
    "df2 = pd.DataFrame(data2)\n",
    "\n",
    "# Performing an inner join\n",
    "result = pd.merge(df1, df2, on='key_column', how='inner')\n",
    "\n",
    "result"
   ]
  }
 ],
 "metadata": {
  "kernelspec": {
   "display_name": "Python 3",
   "language": "python",
   "name": "python3"
  },
  "language_info": {
   "codemirror_mode": {
    "name": "ipython",
    "version": 3
   },
   "file_extension": ".py",
   "mimetype": "text/x-python",
   "name": "python",
   "nbconvert_exporter": "python",
   "pygments_lexer": "ipython3",
   "version": "3.11.3"
  },
  "orig_nbformat": 4
 },
 "nbformat": 4,
 "nbformat_minor": 2
}
