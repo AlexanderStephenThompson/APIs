{
 "cells": [
  {
   "cell_type": "code",
   "execution_count": 1,
   "metadata": {},
   "outputs": [],
   "source": [
    "import re\n"
   ]
  },
  {
   "cell_type": "markdown",
   "metadata": {},
   "source": [
    "### Grouping"
   ]
  },
  {
   "cell_type": "code",
   "execution_count": 2,
   "metadata": {},
   "outputs": [
    {
     "name": "stdout",
     "output_type": "stream",
     "text": [
      "document.txt matches the '.txt' or '.csv' extension.\n",
      "data.csv matches the '.txt' or '.csv' extension.\n",
      "image.png does not match the '.txt' or '.csv' extension.\n"
     ]
    }
   ],
   "source": [
    "\n",
    "# Define the regular expression pattern\n",
    "pattern = r'\\.(txt|csv)$'\n",
    "\n",
    "# Test file names\n",
    "file1 = \"document.txt\"\n",
    "file2 = \"data.csv\"\n",
    "file3 = \"image.png\"\n",
    "\n",
    "# Check if the file names match the pattern\n",
    "for filename in [file1, file2, file3]:\n",
    "    if re.search(pattern, filename):\n",
    "        print(f\"{filename} matches the '.txt' or '.csv' extension.\")\n",
    "    else:\n",
    "        print(f\"{filename} does not match the '.txt' or '.csv' extension.\")\n",
    "\n",
    "\"\"\"\n",
    "\\. matches the dot character literally.\n",
    "(txt|csv) is a group that matches either \"txt\" or \"csv\" using the | alternation operator.\n",
    "$ anchors the pattern to the end of the string.\n",
    "\"\"\""
   ]
  },
  {
   "cell_type": "code",
   "execution_count": null,
   "metadata": {},
   "outputs": [],
   "source": [
    "import re\n",
    "\n",
    "# Function to validate an email\n",
    "def is_valid_email(email):\n",
    "    # Define the email pattern\n",
    "    email_pattern = r'^[A-Za-z0-9._%+-]+@[A-Za-z0-9.-]+\\.[A-Za-z]{2,}$'\n",
    "    \n",
    "    # Define the list of allowed domains\n",
    "    allowed_domains = [\"example.com\", \"gmail.com\", \"yahoo.com\"]\n",
    "\n",
    "    # Use the regex pattern to check the email format\n",
    "    if not re.match(email_pattern, email):\n",
    "        return False\n",
    "    \n",
    "    # Extract the domain part of the email\n",
    "    domain = email.split('@')[1]\n",
    "\n",
    "    # Check if the domain is in the list of allowed domains\n",
    "    if domain in allowed_domains:\n",
    "        return True\n",
    "    else:\n",
    "        return False\n",
    "\n",
    "# Test the function\n",
    "email1 = \"user@example.com\"\n",
    "email2 = \"user@gmail.com\"\n",
    "email3 = \"user@hotmail.com\"\n",
    "\n",
    "print(f\"{email1} is valid: {is_valid_email(email1)}\")\n",
    "print(f\"{email2} is valid: {is_valid_email(email2)}\")\n",
    "print(f\"{email3} is valid: {is_valid_email(email3)}\")\n"
   ]
  },
  {
   "cell_type": "code",
   "execution_count": null,
   "metadata": {},
   "outputs": [],
   "source": [
    "import re\n",
    "\n",
    "# Define the regular expression pattern\n",
    "pattern = r'\\.(txt|csv)$'\n",
    "\n",
    "# Test file names\n",
    "file1 = \"document.txt\"\n",
    "file2 = \"data.csv\"\n",
    "file3 = \"image.png\"\n",
    "\n",
    "# Check if the file names match the pattern\n",
    "for filename in [file1, file2, file3]:\n",
    "    if re.search(pattern, filename):\n",
    "        print(f\"{filename} matches the '.txt' or '.csv' extension.\")\n",
    "    else:\n",
    "        print(f\"{filename} does not match the '.txt' or '.csv' extension.\")\n"
   ]
  },
  {
   "cell_type": "code",
   "execution_count": 3,
   "metadata": {},
   "outputs": [
    {
     "name": "stdout",
     "output_type": "stream",
     "text": [
      "192.168.0.1 is a valid IPv4 address: True\n",
      "256.0.0.1 is a valid IPv4 address: False\n",
      "127.0.0.1 is a valid IPv4 address: True\n",
      "300.200.100.50 is a valid IPv4 address: False\n",
      "10.0.0.-1 is a valid IPv4 address: False\n",
      "10.0.0.256 is a valid IPv4 address: False\n"
     ]
    }
   ],
   "source": [
    "import re\n",
    "\n",
    "# Define the corrected pattern for matching an IPv4 address\n",
    "ipv4_pattern = r'^(\\d{1,3})\\.(\\d{1,3})\\.(\\d{1,3})\\.(\\d{1,3})$'\n",
    "\n",
    "# Function to check if an IPv4 address is valid\n",
    "def is_valid_ipv4(address):\n",
    "    match = re.match(ipv4_pattern, address)\n",
    "    if not match:\n",
    "        return False\n",
    "\n",
    "    # Check if each octet is between 0 and 255\n",
    "    octets = [int(octet) for octet in match.groups()]\n",
    "    for octet in octets:\n",
    "        if octet < 0 or octet > 255:\n",
    "            return False\n",
    "\n",
    "    return True\n",
    "\n",
    "# Test the function\n",
    "ipv4_1 = \"192.168.0.1\"    # Valid IPv4 address\n",
    "ipv4_2 = \"256.0.0.1\"      # Invalid: Octet exceeds 255\n",
    "ipv4_3 = \"127.0.0.1\"      # Valid IPv4 address\n",
    "ipv4_4 = \"300.200.100.50\" # Invalid: Octet exceeds 255\n",
    "ipv4_5 = \"10.0.0.-1\"      # Invalid: Negative octet\n",
    "ipv4_6 = \"10.0.0.256\"     # Invalid: Octet exceeds 255\n",
    "\n",
    "print(f\"{ipv4_1} is a valid IPv4 address: {is_valid_ipv4(ipv4_1)}\")\n",
    "print(f\"{ipv4_2} is a valid IPv4 address: {is_valid_ipv4(ipv4_2)}\")\n",
    "print(f\"{ipv4_3} is a valid IPv4 address: {is_valid_ipv4(ipv4_3)}\")\n",
    "print(f\"{ipv4_4} is a valid IPv4 address: {is_valid_ipv4(ipv4_4)}\")\n",
    "print(f\"{ipv4_5} is a valid IPv4 address: {is_valid_ipv4(ipv4_5)}\")\n",
    "print(f\"{ipv4_6} is a valid IPv4 address: {is_valid_ipv4(ipv4_6)}\")\n"
   ]
  }
 ],
 "metadata": {
  "kernelspec": {
   "display_name": "Python 3",
   "language": "python",
   "name": "python3"
  },
  "language_info": {
   "codemirror_mode": {
    "name": "ipython",
    "version": 3
   },
   "file_extension": ".py",
   "mimetype": "text/x-python",
   "name": "python",
   "nbconvert_exporter": "python",
   "pygments_lexer": "ipython3",
   "version": "3.11.3"
  },
  "orig_nbformat": 4
 },
 "nbformat": 4,
 "nbformat_minor": 2
}
