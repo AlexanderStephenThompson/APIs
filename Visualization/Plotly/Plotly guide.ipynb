{
 "cells": [
  {
   "cell_type": "code",
   "execution_count": 3,
   "metadata": {},
   "outputs": [
    {
     "ename": "ValueError",
     "evalue": "Mime type rendering requires nbformat>=4.2.0 but it is not installed",
     "output_type": "error",
     "traceback": [
      "\u001b[1;31m---------------------------------------------------------------------------\u001b[0m",
      "\u001b[1;31mValueError\u001b[0m                                Traceback (most recent call last)",
      "\u001b[1;32mc:\\Users\\AlexLaptop\\Desktop\\Kelston University\\Technology\\Programming\\Programming-Fundamentals\\Python\\~Extras\\Libraries & Modules\\Data\\Data Analytics\\Data-Analytics\\Visualization\\Plotly\\Plotly guide.ipynb Cell 1\u001b[0m line \u001b[0;36m1\n\u001b[0;32m     <a href='vscode-notebook-cell:/c%3A/Users/AlexLaptop/Desktop/Kelston%20University/Technology/Programming/Programming-Fundamentals/Python/~Extras/Libraries%20%26%20Modules/Data/Data%20Analytics/Data-Analytics/Visualization/Plotly/Plotly%20guide.ipynb#W0sZmlsZQ%3D%3D?line=11'>12</a>\u001b[0m fig \u001b[39m=\u001b[39m px\u001b[39m.\u001b[39mscatter(x\u001b[39m=\u001b[39mx, y\u001b[39m=\u001b[39my, title\u001b[39m=\u001b[39m\u001b[39m'\u001b[39m\u001b[39mSample Scatter Plot\u001b[39m\u001b[39m'\u001b[39m, labels\u001b[39m=\u001b[39m{\u001b[39m'\u001b[39m\u001b[39mx\u001b[39m\u001b[39m'\u001b[39m: \u001b[39m'\u001b[39m\u001b[39mX-axis\u001b[39m\u001b[39m'\u001b[39m, \u001b[39m'\u001b[39m\u001b[39my\u001b[39m\u001b[39m'\u001b[39m: \u001b[39m'\u001b[39m\u001b[39mY-axis\u001b[39m\u001b[39m'\u001b[39m})\n\u001b[0;32m     <a href='vscode-notebook-cell:/c%3A/Users/AlexLaptop/Desktop/Kelston%20University/Technology/Programming/Programming-Fundamentals/Python/~Extras/Libraries%20%26%20Modules/Data/Data%20Analytics/Data-Analytics/Visualization/Plotly/Plotly%20guide.ipynb#W0sZmlsZQ%3D%3D?line=12'>13</a>\u001b[0m fig\u001b[39m.\u001b[39mupdate_traces(marker\u001b[39m=\u001b[39m\u001b[39mdict\u001b[39m(size\u001b[39m=\u001b[39m\u001b[39m10\u001b[39m))  \u001b[39m# Customize marker size\u001b[39;00m\n\u001b[1;32m---> <a href='vscode-notebook-cell:/c%3A/Users/AlexLaptop/Desktop/Kelston%20University/Technology/Programming/Programming-Fundamentals/Python/~Extras/Libraries%20%26%20Modules/Data/Data%20Analytics/Data-Analytics/Visualization/Plotly/Plotly%20guide.ipynb#W0sZmlsZQ%3D%3D?line=13'>14</a>\u001b[0m fig\u001b[39m.\u001b[39;49mshow()\n",
      "File \u001b[1;32mc:\\Users\\AlexLaptop\\AppData\\Local\\Programs\\Python\\Python311\\Lib\\site-packages\\plotly\\basedatatypes.py:3409\u001b[0m, in \u001b[0;36mBaseFigure.show\u001b[1;34m(self, *args, **kwargs)\u001b[0m\n\u001b[0;32m   3376\u001b[0m \u001b[39m\u001b[39m\u001b[39m\"\"\"\u001b[39;00m\n\u001b[0;32m   3377\u001b[0m \u001b[39mShow a figure using either the default renderer(s) or the renderer(s)\u001b[39;00m\n\u001b[0;32m   3378\u001b[0m \u001b[39mspecified by the renderer argument\u001b[39;00m\n\u001b[1;32m   (...)\u001b[0m\n\u001b[0;32m   3405\u001b[0m \u001b[39mNone\u001b[39;00m\n\u001b[0;32m   3406\u001b[0m \u001b[39m\"\"\"\u001b[39;00m\n\u001b[0;32m   3407\u001b[0m \u001b[39mimport\u001b[39;00m \u001b[39mplotly\u001b[39;00m\u001b[39m.\u001b[39;00m\u001b[39mio\u001b[39;00m \u001b[39mas\u001b[39;00m \u001b[39mpio\u001b[39;00m\n\u001b[1;32m-> 3409\u001b[0m \u001b[39mreturn\u001b[39;00m pio\u001b[39m.\u001b[39;49mshow(\u001b[39mself\u001b[39;49m, \u001b[39m*\u001b[39;49margs, \u001b[39m*\u001b[39;49m\u001b[39m*\u001b[39;49mkwargs)\n",
      "File \u001b[1;32mc:\\Users\\AlexLaptop\\AppData\\Local\\Programs\\Python\\Python311\\Lib\\site-packages\\plotly\\io\\_renderers.py:396\u001b[0m, in \u001b[0;36mshow\u001b[1;34m(fig, renderer, validate, **kwargs)\u001b[0m\n\u001b[0;32m    391\u001b[0m         \u001b[39mraise\u001b[39;00m \u001b[39mValueError\u001b[39;00m(\n\u001b[0;32m    392\u001b[0m             \u001b[39m\"\u001b[39m\u001b[39mMime type rendering requires ipython but it is not installed\u001b[39m\u001b[39m\"\u001b[39m\n\u001b[0;32m    393\u001b[0m         )\n\u001b[0;32m    395\u001b[0m     \u001b[39mif\u001b[39;00m \u001b[39mnot\u001b[39;00m nbformat \u001b[39mor\u001b[39;00m Version(nbformat\u001b[39m.\u001b[39m__version__) \u001b[39m<\u001b[39m Version(\u001b[39m\"\u001b[39m\u001b[39m4.2.0\u001b[39m\u001b[39m\"\u001b[39m):\n\u001b[1;32m--> 396\u001b[0m         \u001b[39mraise\u001b[39;00m \u001b[39mValueError\u001b[39;00m(\n\u001b[0;32m    397\u001b[0m             \u001b[39m\"\u001b[39m\u001b[39mMime type rendering requires nbformat>=4.2.0 but it is not installed\u001b[39m\u001b[39m\"\u001b[39m\n\u001b[0;32m    398\u001b[0m         )\n\u001b[0;32m    400\u001b[0m     ipython_display\u001b[39m.\u001b[39mdisplay(bundle, raw\u001b[39m=\u001b[39m\u001b[39mTrue\u001b[39;00m)\n\u001b[0;32m    402\u001b[0m \u001b[39m# external renderers\u001b[39;00m\n",
      "\u001b[1;31mValueError\u001b[0m: Mime type rendering requires nbformat>=4.2.0 but it is not installed"
     ]
    }
   ],
   "source": [
    "# Scatterplot placeholder\n",
    "\n",
    "import plotly.express as px\n",
    "\n",
    "# Sample data\n",
    "import numpy as np\n",
    "np.random.seed(42)\n",
    "x = np.random.rand(50)  # Random x values\n",
    "y = np.random.rand(50)  # Random y values\n",
    "\n",
    "# Create a scatter plot\n",
    "fig = px.scatter(x=x, y=y, title='Sample Scatter Plot', labels={'x': 'X-axis', 'y': 'Y-axis'})\n",
    "fig.update_traces(marker=dict(size=10))  # Customize marker size\n",
    "fig.show()\n"
   ]
  }
 ],
 "metadata": {
  "kernelspec": {
   "display_name": "Python 3",
   "language": "python",
   "name": "python3"
  },
  "language_info": {
   "codemirror_mode": {
    "name": "ipython",
    "version": 3
   },
   "file_extension": ".py",
   "mimetype": "text/x-python",
   "name": "python",
   "nbconvert_exporter": "python",
   "pygments_lexer": "ipython3",
   "version": "3.11.3"
  },
  "orig_nbformat": 4
 },
 "nbformat": 4,
 "nbformat_minor": 2
}
